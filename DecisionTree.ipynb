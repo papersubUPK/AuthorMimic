{
  "nbformat": 4,
  "nbformat_minor": 0,
  "metadata": {
    "colab": {
      "provenance": []
    },
    "kernelspec": {
      "name": "python3",
      "display_name": "Python 3"
    },
    "language_info": {
      "name": "python"
    }
  },
  "cells": [
    {
      "cell_type": "code",
      "execution_count": 1,
      "metadata": {
        "colab": {
          "base_uri": "https://localhost:8080/"
        },
        "id": "PFZKERB6ls5X",
        "outputId": "27cb1014-6e9d-474d-e1e5-08b05c60cf70"
      },
      "outputs": [
        {
          "output_type": "stream",
          "name": "stderr",
          "text": [
            "/usr/local/lib/python3.10/dist-packages/numpy/ma/core.py:2820: RuntimeWarning: invalid value encountered in cast\n",
            "  _data = np.array(data, dtype=dtype, copy=copy,\n"
          ]
        },
        {
          "output_type": "stream",
          "name": "stdout",
          "text": [
            "\n",
            "Decision Tree (Test Set):\n",
            "Accuracy: 0.9469\n",
            "Precision: 0.9453\n",
            "Recall: 0.95\n",
            "F1-score: 0.947\n"
          ]
        }
      ],
      "source": [
        "# Decision Tree\n",
        "import numpy as np\n",
        "import pandas as pd\n",
        "from sklearn.model_selection import StratifiedKFold, GridSearchCV\n",
        "from sklearn.metrics import accuracy_score, precision_score, recall_score, f1_score, confusion_matrix\n",
        "from sklearn.tree import DecisionTreeClassifier\n",
        "from sklearn.model_selection import train_test_split\n",
        "import joblib\n",
        "import seaborn as sns\n",
        "import matplotlib.pyplot as plt\n",
        "\n",
        "# Dataset\n",
        "dataset = pd.read_csv('/content/ConsideredMeanSTDP2Authors.csv')\n",
        "\n",
        "# Features & target variables\n",
        "X = dataset.iloc[:, 1:19].values\n",
        "y = dataset.iloc[:, 20].values\n",
        "\n",
        "# Hyperparameters\n",
        "dt_parameters = {'max_depth': range(1, 5), 'criterion': ['gini', 'entropy']}\n",
        "\n",
        "# Split the data\n",
        "X_train, X_temp, y_train, y_temp = train_test_split(X, y, test_size=0.2, random_state=42, stratify=y)\n",
        "\n",
        "# Strategy\n",
        "outer_cv = StratifiedKFold(n_splits=5, shuffle=True, random_state=42)\n",
        "inner_cv = StratifiedKFold(n_splits=5, shuffle=True, random_state=42)\n",
        "\n",
        "# Initialize\n",
        "dt_accuracy_scores_test = []\n",
        "dt_precision_scores_test = []\n",
        "dt_recall_scores_test = []\n",
        "dt_f1_scores_test = []\n",
        "\n",
        "# Initialize lists for confusion matrix\n",
        "all_predictions = []\n",
        "all_true_labels = []\n",
        "\n",
        "# Storing the best model\n",
        "best_dt_model_test = None\n",
        "best_dt_score_test = 0.0\n",
        "\n",
        "# Cross-validation\n",
        "for train_index, test_index in outer_cv.split(X_train, y_train):\n",
        "    X_train_fold, X_test_fold = X_train[train_index], X_train[test_index]\n",
        "    y_train_fold, y_test_fold = y_train[train_index], y_train[test_index]\n",
        "\n",
        "    # Decision Tree\n",
        "    dt_classifier = DecisionTreeClassifier(random_state=42)\n",
        "    dt_grid_search = GridSearchCV(dt_classifier, dt_parameters, cv=inner_cv)\n",
        "    dt_grid_search.fit(X_train_fold, y_train_fold)\n",
        "    dt_best_params = dt_grid_search.best_params_\n",
        "    dt_best_model = DecisionTreeClassifier(random_state=42, **dt_best_params)\n",
        "\n",
        "    # Fit the best model\n",
        "    dt_best_model.fit(X_train_fold, y_train_fold)\n",
        "\n",
        "    # Evaluation\n",
        "    dt_predictions_test = dt_best_model.predict(X_test_fold)\n",
        "\n",
        "    # Append metrics\n",
        "    dt_accuracy_scores_test.append(accuracy_score(y_test_fold, dt_predictions_test))\n",
        "    dt_precision_scores_test.append(precision_score(y_test_fold, dt_predictions_test))\n",
        "    dt_recall_scores_test.append(recall_score(y_test_fold, dt_predictions_test))\n",
        "    dt_f1_scores_test.append(f1_score(y_test_fold, dt_predictions_test))\n",
        "\n",
        "    # Store the model\n",
        "    current_score = accuracy_score(y_test_fold, dt_predictions_test)\n",
        "    if current_score > best_dt_score_test:\n",
        "        best_dt_score_test = current_score\n",
        "        best_dt_model_test = dt_best_model\n",
        "\n",
        "    # Accumulate predictions and true labels\n",
        "    all_predictions.extend(dt_predictions_test)\n",
        "    all_true_labels.extend(y_test_fold)\n",
        "\n",
        "# Save the best model\n",
        "if best_dt_model_test is not None:\n",
        "    joblib.dump(best_dt_model_test, 'best_decision_tree_model_test.pkl')\n",
        "\n",
        "# Calculate\n",
        "dt_average_accuracy_test = np.mean(dt_accuracy_scores_test)\n",
        "dt_average_precision_test = np.mean(dt_precision_scores_test)\n",
        "dt_average_recall_test = np.mean(dt_recall_scores_test)\n",
        "dt_average_f1_test = np.mean(dt_f1_scores_test)\n",
        "\n",
        "# Print\n",
        "print(\"\\nDecision Tree (Test Set):\")\n",
        "print(\"Accuracy:\", round(dt_average_accuracy_test, 4))\n",
        "print(\"Precision:\", round(dt_average_precision_test, 4))\n",
        "print(\"Recall:\", round(dt_average_recall_test, 4))\n",
        "print(\"F1-score:\", round(dt_average_f1_test, 4))"
      ]
    },
    {
      "cell_type": "code",
      "source": [
        "# Calculate confusion matrix\n",
        "conf_matrix = confusion_matrix(all_true_labels, all_predictions)\n",
        "\n",
        "# Show\n",
        "print(\"\\nOverall Confusion Matrix:\")\n",
        "print(conf_matrix)\n",
        "\n",
        "# Plot\n",
        "overall_confusion_matrix = confusion_matrix(all_true_labels, all_predictions)\n",
        "plt.figure(figsize=(3, 3))\n",
        "sns.heatmap(overall_confusion_matrix, annot=True, fmt='d', cmap='Blues', cbar=False)\n",
        "plt.title(\"Overall Confusion Matrix\")\n",
        "plt.xlabel(\"Predicted Labels\")\n",
        "plt.ylabel(\"True Labels\")\n",
        "plt.show()"
      ],
      "metadata": {
        "colab": {
          "base_uri": "https://localhost:8080/",
          "height": 407
        },
        "id": "w6bBz8rdCnWM",
        "outputId": "a5bd59e2-b9f5-41f7-aeae-faace22bdb5f"
      },
      "execution_count": 2,
      "outputs": [
        {
          "output_type": "stream",
          "name": "stdout",
          "text": [
            "\n",
            "Overall Confusion Matrix:\n",
            "[[151   9]\n",
            " [  8 152]]\n"
          ]
        },
        {
          "output_type": "display_data",
          "data": {
            "text/plain": [
              "<Figure size 300x300 with 1 Axes>"
            ],
            "image/png": "[encoded data removed]"
          },
          "metadata": {}
        }
      ]
    }
  ]
}