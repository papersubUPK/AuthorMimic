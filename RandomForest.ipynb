{
  "nbformat": 4,
  "nbformat_minor": 0,
  "metadata": {
    "colab": {
      "provenance": []
    },
    "kernelspec": {
      "name": "python3",
      "display_name": "Python 3"
    },
    "language_info": {
      "name": "python"
    }
  },
  "cells": [
    {
      "cell_type": "code",
      "execution_count": 2,
      "metadata": {
        "colab": {
          "base_uri": "https://localhost:8080/"
        },
        "id": "XkY2lYu1oyQW",
        "outputId": "0d64a3ee-003d-4c98-eb01-d4780af4ae74"
      },
      "outputs": [
        {
          "output_type": "stream",
          "name": "stdout",
          "text": [
            "\n",
            "Random Forest Test Set:\n",
            "Accuracy: 0.9688\n",
            "Precision: 0.9522\n",
            "Recall: 0.9875\n",
            "F1-score: 0.9694\n"
          ]
        }
      ],
      "source": [
        "# Random Forest\n",
        "import numpy as np\n",
        "import pandas as pd\n",
        "from sklearn.model_selection import train_test_split, StratifiedKFold, GridSearchCV\n",
        "from sklearn.ensemble import RandomForestClassifier\n",
        "from sklearn.metrics import accuracy_score, precision_score, recall_score, f1_score, confusion_matrix\n",
        "import joblib\n",
        "import seaborn as sns\n",
        "import matplotlib.pyplot as plt\n",
        "\n",
        "# Dataset\n",
        "dataset = pd.read_csv('/content/ConsideredMeanSTDP2Authors.csv')\n",
        "\n",
        "# Features & target variables\n",
        "X = dataset.iloc[:, 1:19].values\n",
        "y = dataset.iloc[:, 20].values\n",
        "\n",
        "# Split data\n",
        "X_train, X_temp, y_train, y_temp = train_test_split(X, y, test_size=0.2, random_state=42, stratify=y)\n",
        "\n",
        "# Hyperparameters\n",
        "rf_parameters = {'max_depth': range(1, 5), 'n_estimators': [20, 50, 100]}\n",
        "\n",
        "# Strategy\n",
        "outer_cv = StratifiedKFold(n_splits=5, shuffle=True, random_state=42)\n",
        "inner_cv = StratifiedKFold(n_splits=5, shuffle=True, random_state=42)\n",
        "\n",
        "# Initialize metrics\n",
        "rf_accuracy_scores = []\n",
        "rf_precision_scores = []\n",
        "rf_recall_scores = []\n",
        "rf_f1_scores = []\n",
        "\n",
        "# Confusion matrix\n",
        "overall_conf_matrix = np.zeros((2, 2), dtype=int)\n",
        "\n",
        "# Store the best model\n",
        "best_rf_model = None\n",
        "best_rf_score = 0.0\n",
        "\n",
        "# Perform cross-validation\n",
        "for train_index, test_index in outer_cv.split(X_train, y_train):\n",
        "    X_train_fold, X_test_fold = X_train[train_index], X_train[test_index]\n",
        "    y_train_fold, y_test_fold = y_train[train_index], y_train[test_index]\n",
        "\n",
        "    rf_classifier = RandomForestClassifier(random_state=42)\n",
        "    rf_grid_search = GridSearchCV(rf_classifier, rf_parameters, cv=inner_cv)\n",
        "    rf_grid_search.fit(X_train_fold, y_train_fold)\n",
        "    rf_best_params = rf_grid_search.best_params_\n",
        "    rf_best_model = RandomForestClassifier(random_state=42, **rf_best_params)\n",
        "\n",
        "    # Fit best model\n",
        "    rf_best_model.fit(X_train_fold, y_train_fold)\n",
        "\n",
        "    # Evaluation on test set\n",
        "    rf_predictions = rf_best_model.predict(X_test_fold)\n",
        "    current_score = accuracy_score(y_test_fold, rf_predictions)\n",
        "\n",
        "    # Store best model\n",
        "    if current_score > best_rf_score:\n",
        "        best_rf_score = current_score\n",
        "        best_rf_model = rf_best_model\n",
        "\n",
        "    # Test set\n",
        "    rf_accuracy_scores.append(accuracy_score(y_test_fold, rf_predictions))\n",
        "    rf_precision_scores.append(precision_score(y_test_fold, rf_predictions))\n",
        "    rf_recall_scores.append(recall_score(y_test_fold, rf_predictions))\n",
        "    rf_f1_scores.append(f1_score(y_test_fold, rf_predictions))\n",
        "\n",
        "    # Update overall CM with the fold's results\n",
        "    fold_conf_matrix = confusion_matrix(y_test_fold, rf_predictions)\n",
        "    overall_conf_matrix += fold_conf_matrix\n",
        "\n",
        "# Save the best model\n",
        "if best_rf_model is not None:\n",
        "    joblib.dump(best_rf_model, 'best_random_forest_model.pkl')\n",
        "\n",
        "# Test set metrics\n",
        "rf_average_accuracy_test = np.mean(rf_accuracy_scores)\n",
        "rf_average_precision_test = np.mean(rf_precision_scores)\n",
        "rf_average_recall_test = np.mean(rf_recall_scores)\n",
        "rf_average_f1_test = np.mean(rf_f1_scores)\n",
        "\n",
        "# Print\n",
        "print(\"\\nRandom Forest Test Set:\")\n",
        "print(\"Accuracy:\", round(rf_average_accuracy_test, 4))\n",
        "print(\"Precision:\", round(rf_average_precision_test, 4))\n",
        "print(\"Recall:\", round(rf_average_recall_test, 4))\n",
        "print(\"F1-score:\", round(rf_average_f1_test, 4))\n"
      ]
    },
    {
      "cell_type": "code",
      "source": [
        "# Print and plot\n",
        "print(\"\\nOverall Confusion Matrix:\")\n",
        "print(overall_conf_matrix)\n",
        "\n",
        "plt.figure(figsize=(3, 3))\n",
        "sns.heatmap(overall_conf_matrix, annot=True, fmt='d', cmap='Blues', cbar=False)\n",
        "plt.title('Overall Confusion Matrix')\n",
        "plt.xlabel('Predicted')\n",
        "plt.ylabel('True')\n",
        "plt.show()"
      ],
      "metadata": {
        "colab": {
          "base_uri": "https://localhost:8080/",
          "height": 407
        },
        "id": "GI2qTNRh9hpx",
        "outputId": "a9deca85-f67c-4c49-b564-e2748b7834cc"
      },
      "execution_count": 3,
      "outputs": [
        {
          "output_type": "stream",
          "name": "stdout",
          "text": [
            "\n",
            "Overall Confusion Matrix:\n",
            "[[152   8]\n",
            " [  2 158]]\n"
          ]
        },
        {
          "output_type": "display_data",
          "data": {
            "text/plain": [
              "<Figure size 300x300 with 1 Axes>"
            ],
            "image/png": "[encoded data removed]"
          },
          "metadata": {}
        }
      ]
    }
  ]
}