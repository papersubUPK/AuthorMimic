{
  "nbformat": 4,
  "nbformat_minor": 0,
  "metadata": {
    "colab": {
      "provenance": []
    },
    "kernelspec": {
      "name": "python3",
      "display_name": "Python 3"
    },
    "language_info": {
      "name": "python"
    }
  },
  "cells": [
    {
      "cell_type": "code",
      "execution_count": null,
      "metadata": {
        "colab": {
          "base_uri": "https://localhost:8080/"
        },
        "id": "uPu5Bd90tDDU",
        "outputId": "1604df30-d73c-45ca-a481-ae3f56226573"
      },
      "outputs": [
        {
          "output_type": "stream",
          "name": "stdout",
          "text": [
            "\n",
            "SVM with RBF Kernel Test Set:\n",
            "Accuracy: 0.9875\n",
            "Precision: 0.9875\n",
            "Recall: 0.9875\n",
            "F1-score: 0.9875\n"
          ]
        }
      ],
      "source": [
        "# SVM (RBF)\n",
        "import numpy as np\n",
        "import pandas as pd\n",
        "from sklearn.model_selection import train_test_split, StratifiedKFold, GridSearchCV\n",
        "from sklearn.svm import SVC\n",
        "from sklearn.metrics import accuracy_score, precision_score, recall_score, f1_score, confusion_matrix\n",
        "import joblib\n",
        "import seaborn as sns\n",
        "import matplotlib.pyplot as plt\n",
        "\n",
        "# Dataset\n",
        "dataset = pd.read_csv('/content/MicmickedMeanSTDP3Authors.csv')\n",
        "\n",
        "# Features & target variables\n",
        "X = dataset.iloc[:, 1:39].values\n",
        "y = dataset.iloc[:, 40].values\n",
        "\n",
        "# Split data\n",
        "X_train, X_temp, y_train, y_temp = train_test_split(X, y, test_size=0.2, random_state=42, stratify=y)\n",
        "\n",
        "# Define hyperparameters\n",
        "svm_parameters = {\n",
        "    'C': [10**i for i in range(-5, 5)],\n",
        "    'gamma': [10**i for i in range(-5, 5)]\n",
        "}\n",
        "\n",
        "# Cross-validation strategy\n",
        "outer_cv = StratifiedKFold(n_splits=5, shuffle=True, random_state=42)\n",
        "inner_cv = StratifiedKFold(n_splits=5, shuffle=True, random_state=42)\n",
        "\n",
        "# Initialize lists\n",
        "svm_accuracy_scores = []\n",
        "svm_precision_scores = []\n",
        "svm_recall_scores = []\n",
        "svm_f1_scores = []\n",
        "\n",
        "# Store confusion matrices\n",
        "confusion_matrices = []\n",
        "\n",
        "# Store the best model\n",
        "best_svm_model = None\n",
        "best_svm_score = 0.0\n",
        "\n",
        "# Cross-validation\n",
        "for train_index, test_index in outer_cv.split(X_train, y_train):\n",
        "    X_train_fold, X_test_fold = X_train[train_index], X_train[test_index]\n",
        "    y_train_fold, y_test_fold = y_train[train_index], y_train[test_index]\n",
        "\n",
        "    # SVM (RBF) Classifier\n",
        "    svm_classifier = SVC(kernel='rbf', random_state=42)\n",
        "    svm_grid_search = GridSearchCV(svm_classifier, svm_parameters, cv=inner_cv)\n",
        "    svm_grid_search.fit(X_train_fold, y_train_fold)\n",
        "    svm_best_params = svm_grid_search.best_params_\n",
        "    svm_best_model = SVC(kernel='rbf', random_state=42, **svm_best_params)\n",
        "\n",
        "    # Fit the best model\n",
        "    svm_best_model.fit(X_train_fold, y_train_fold)\n",
        "\n",
        "    # Prediction on the test fold\n",
        "    svm_predictions = svm_best_model.predict(X_test_fold)\n",
        "    current_score = accuracy_score(y_test_fold, svm_predictions)\n",
        "\n",
        "    # Store the confusion matrix\n",
        "    fold_conf_matrix = confusion_matrix(y_test_fold, svm_predictions)\n",
        "    confusion_matrices.append(fold_conf_matrix)\n",
        "\n",
        "    # Store best model (if the current score is higher)\n",
        "    if current_score > best_svm_score:\n",
        "        best_svm_score = current_score\n",
        "        best_svm_model = svm_best_model\n",
        "\n",
        "    # Performance metrics for current fold\n",
        "    svm_accuracy_scores.append(accuracy_score(y_test_fold, svm_predictions))\n",
        "    svm_precision_scores.append(precision_score(y_test_fold, svm_predictions))\n",
        "    svm_recall_scores.append(recall_score(y_test_fold, svm_predictions))\n",
        "    svm_f1_scores.append(f1_score(y_test_fold, svm_predictions))\n",
        "\n",
        "# Save the best model\n",
        "if best_svm_model is not None:\n",
        "    joblib.dump(best_svm_model, 'best_svm_rbf_model.pkl')\n",
        "\n",
        "# Test set\n",
        "svm_average_accuracy_test = np.mean(svm_accuracy_scores)\n",
        "svm_average_precision_test = np.mean(svm_precision_scores)\n",
        "svm_average_recall_test = np.mean(svm_recall_scores)\n",
        "svm_average_f1_test = np.mean(svm_f1_scores)\n",
        "\n",
        "# Print results\n",
        "print(\"\\nSVM (RBF Kernel):\")\n",
        "print(\"Accuracy:\", round(svm_average_accuracy_test, 4))\n",
        "print(\"Precision:\", round(svm_average_precision_test, 4))\n",
        "print(\"Recall:\", round(svm_average_recall_test, 4))\n",
        "print(\"F1-score:\", round(svm_average_f1_test, 4))"
      ]
    },
    {
      "cell_type": "code",
      "source": [
        "# Combine confusion matrices by summing individual fold results\n",
        "overall_conf_matrix = sum(confusion_matrices)\n",
        "\n",
        "# Overall confusion matrix\n",
        "print(\"\\nOverall Confusion Matrix:\")\n",
        "print(overall_conf_matrix)\n",
        "\n",
        "# Plot\n",
        "plt.figure(figsize=(6,6))\n",
        "sns.heatmap(overall_conf_matrix, annot=True, fmt='d', cmap='Blues', cbar=False)\n",
        "plt.title('Overall Confusion Matrix')\n",
        "plt.xlabel('Predicted')\n",
        "plt.ylabel('True')\n",
        "plt.show()\n"
      ],
      "metadata": {
        "colab": {
          "base_uri": "https://localhost:8080/",
          "height": 633
        },
        "id": "zEzAKJ0tKa_E",
        "outputId": "603833e7-fa70-4955-db4a-c001d99790c2"
      },
      "execution_count": null,
      "outputs": [
        {
          "output_type": "stream",
          "name": "stdout",
          "text": [
            "\n",
            "Overall Confusion Matrix:\n",
            "[[79  1]\n",
            " [ 1 79]]\n"
          ]
        },
        {
          "output_type": "display_data",
          "data": {
            "text/plain": [
              "<Figure size 600x600 with 1 Axes>"
            ],
            "image/png": "[encoded data removed]"
          },
          "metadata": {}
        }
      ]
    }
  ]
}