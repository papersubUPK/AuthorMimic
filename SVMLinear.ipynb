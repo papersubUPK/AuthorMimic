{
  "nbformat": 4,
  "nbformat_minor": 0,
  "metadata": {
    "colab": {
      "provenance": []
    },
    "kernelspec": {
      "name": "python3",
      "display_name": "Python 3"
    },
    "language_info": {
      "name": "python"
    }
  },
  "cells": [
    {
      "cell_type": "code",
      "execution_count": null,
      "metadata": {
        "colab": {
          "base_uri": "https://localhost:8080/"
        },
        "id": "QSC_2xlzxJF9",
        "outputId": "356e6828-5687-49ce-c528-4fca2cbe83af"
      },
      "outputs": [
        {
          "output_type": "stream",
          "name": "stdout",
          "text": [
            "\n",
            "SVM Linear Test Set:\n",
            "Accuracy: 0.9875\n",
            "Precision: 0.9875\n",
            "Recall: 0.9875\n",
            "F1-score: 0.9875\n"
          ]
        }
      ],
      "source": [
        "# SVM (Linear)\n",
        "import numpy as np\n",
        "import pandas as pd\n",
        "from sklearn.model_selection import train_test_split, StratifiedKFold, GridSearchCV\n",
        "from sklearn.svm import SVC\n",
        "from sklearn.metrics import accuracy_score, precision_score, recall_score, f1_score, confusion_matrix\n",
        "import joblib\n",
        "import seaborn as sns\n",
        "import matplotlib.pyplot as plt\n",
        "\n",
        "# Dataset\n",
        "dataset = pd.read_csv('/content/MicmickedMeanSTDP3Authors.csv')\n",
        "\n",
        "# Features & target variables\n",
        "X = dataset.iloc[:, 1:39].values\n",
        "y = dataset.iloc[:, 40].values\n",
        "\n",
        "# Split data\n",
        "X_train, X_temp, y_train, y_temp = train_test_split(X, y, test_size=0.2, random_state=42, stratify=y)\n",
        "\n",
        "# Hyperparameters\n",
        "svm_parameters = {'C': [10**i for i in range(-3, 1)]}\n",
        "\n",
        "# Cross-validation strategy\n",
        "outer_cv = StratifiedKFold(n_splits=5, shuffle=True, random_state=42)\n",
        "inner_cv = StratifiedKFold(n_splits=5, shuffle=True, random_state=42)\n",
        "\n",
        "# Initialize lists\n",
        "svm_accuracy_scores = []\n",
        "svm_precision_scores = []\n",
        "svm_recall_scores = []\n",
        "svm_f1_scores = []\n",
        "\n",
        "# True labels and predictions (for confusion matrix)\n",
        "all_true_labels = []\n",
        "all_predictions = []\n",
        "\n",
        "# Store the best model\n",
        "best_svm_model = None\n",
        "best_svm_score = 0.0\n",
        "\n",
        "# Cross-validation\n",
        "for train_index, test_index in outer_cv.split(X_train, y_train):\n",
        "    X_train_fold, X_test_fold = X_train[train_index], X_train[test_index]\n",
        "    y_train_fold, y_test_fold = y_train[train_index], y_train[test_index]\n",
        "\n",
        "    # SVM Classifier\n",
        "    svm_classifier = SVC(kernel='linear', random_state=42)\n",
        "    svm_grid_search = GridSearchCV(svm_classifier, svm_parameters, cv=inner_cv)\n",
        "    svm_grid_search.fit(X_train_fold, y_train_fold)\n",
        "    svm_best_params = svm_grid_search.best_params_\n",
        "    svm_best_model = SVC(kernel='linear', random_state=42, **svm_best_params)\n",
        "\n",
        "    # Fit the best model\n",
        "    svm_best_model.fit(X_train_fold, y_train_fold)\n",
        "\n",
        "    # Prediction on the test fold\n",
        "    svm_predictions = svm_best_model.predict(X_test_fold)\n",
        "    current_score = accuracy_score(y_test_fold, svm_predictions)\n",
        "\n",
        "    # Hold the labels and predictions\n",
        "    all_true_labels.extend(y_test_fold)\n",
        "    all_predictions.extend(svm_predictions)\n",
        "\n",
        "    # Store best model (if current score is higher)\n",
        "    if current_score > best_svm_score:\n",
        "        best_svm_score = current_score\n",
        "        best_svm_model = svm_best_model\n",
        "\n",
        "    # Performance metrics\n",
        "    svm_accuracy_scores.append(accuracy_score(y_test_fold, svm_predictions))\n",
        "    svm_precision_scores.append(precision_score(y_test_fold, svm_predictions))\n",
        "    svm_recall_scores.append(recall_score(y_test_fold, svm_predictions))\n",
        "    svm_f1_scores.append(f1_score(y_test_fold, svm_predictions))\n",
        "\n",
        "# Save the best model\n",
        "if best_svm_model is not None:\n",
        "    joblib.dump(best_svm_model, 'best_svm_linear_model.pkl')\n",
        "\n",
        "# Performance metrics\n",
        "svm_average_accuracy_test = np.mean(svm_accuracy_scores)\n",
        "svm_average_precision_test = np.mean(svm_precision_scores)\n",
        "svm_average_recall_test = np.mean(svm_recall_scores)\n",
        "svm_average_f1_test = np.mean(svm_f1_scores)\n",
        "\n",
        "# Print performance results\n",
        "print(\"\\nSVM Linear Test Set:\")\n",
        "print(\"Accuracy:\", round(svm_average_accuracy_test, 4))\n",
        "print(\"Precision:\", round(svm_average_precision_test, 4))\n",
        "print(\"Recall:\", round(svm_average_recall_test, 4))\n",
        "print(\"F1-score:\", round(svm_average_f1_test, 4))\n"
      ]
    },
    {
      "cell_type": "code",
      "source": [
        "# Confusion matrix\n",
        "conf_matrix = confusion_matrix(all_true_labels, all_predictions)\n",
        "\n",
        "# Print\n",
        "print(\"\\nOverall Confusion Matrix:\")\n",
        "print(conf_matrix)\n",
        "\n",
        "# Plot\n",
        "plt.figure(figsize=(2, 2))\n",
        "sns.heatmap(conf_matrix, annot=True, fmt='d', cmap='Blues', cbar=False)\n",
        "plt.title('Overall Confusion Matrix')\n",
        "plt.xlabel('Predicted')\n",
        "plt.ylabel('True')\n",
        "plt.show()"
      ],
      "metadata": {
        "colab": {
          "base_uri": "https://localhost:8080/",
          "height": 325
        },
        "id": "En_XZnvIhZAY",
        "outputId": "b0666ad8-833c-4991-a6a4-324862a3db86"
      },
      "execution_count": null,
      "outputs": [
        {
          "output_type": "stream",
          "name": "stdout",
          "text": [
            "\n",
            "Overall Confusion Matrix:\n",
            "[[79  1]\n",
            " [ 1 79]]\n"
          ]
        },
        {
          "output_type": "display_data",
          "data": {
            "text/plain": [
              "<Figure size 200x200 with 1 Axes>"
            ],
            "image/png": "[encoded data removed]"
          },
          "metadata": {}
        }
      ]
    }
  ]
}