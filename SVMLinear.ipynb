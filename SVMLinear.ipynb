{
  "nbformat": 4,
  "nbformat_minor": 0,
  "metadata": {
    "colab": {
      "provenance": []
    },
    "kernelspec": {
      "name": "python3",
      "display_name": "Python 3"
    },
    "language_info": {
      "name": "python"
    }
  },
  "cells": [
    {
      "cell_type": "code",
      "execution_count": 2,
      "metadata": {
        "colab": {
          "base_uri": "https://localhost:8080/"
        },
        "id": "QSC_2xlzxJF9",
        "outputId": "f2a504f3-c283-4a4c-a23c-25e952ff71f4"
      },
      "outputs": [
        {
          "output_type": "stream",
          "name": "stdout",
          "text": [
            "\n",
            "SVM Linear Test Set:\n",
            "Accuracy: 0.978125\n",
            "Precision: 0.9582359307359308\n",
            "Recall: 1.0\n",
            "F1-score: 0.9784455697701967\n"
          ]
        }
      ],
      "source": [
        "# SVM Linear\n",
        "import numpy as np\n",
        "import pandas as pd\n",
        "from sklearn.model_selection import StratifiedKFold, GridSearchCV, train_test_split\n",
        "from sklearn.svm import SVC\n",
        "from sklearn.metrics import accuracy_score, precision_score, recall_score, f1_score, confusion_matrix\n",
        "import joblib\n",
        "import seaborn as sns\n",
        "import matplotlib.pyplot as plt\n",
        "\n",
        "# Dataset\n",
        "dataset = pd.read_csv('/content/ConsideredMeanSTDP1Authors.csv')\n",
        "\n",
        "# Features & target variables\n",
        "X = dataset.iloc[:, 1:25].values\n",
        "y = dataset.iloc[:, 26].values\n",
        "\n",
        "# Hyperparameters\n",
        "svm_parameters = {'C': [10**i for i in range(-3, 0, 10)]}\n",
        "\n",
        "# Split the data\n",
        "X_train, X_temp, y_train, y_temp = train_test_split(X, y, test_size=0.2, random_state=42)\n",
        "\n",
        "# Strategy\n",
        "outer_cv = StratifiedKFold(n_splits=5, shuffle=True, random_state=42)\n",
        "inner_cv = StratifiedKFold(n_splits=5, shuffle=True, random_state=42)\n",
        "\n",
        "# Initialize\n",
        "svm_linear_accuracy_scores = []\n",
        "svm_linear_precision_scores = []\n",
        "svm_linear_recall_scores = []\n",
        "svm_linear_f1_scores = []\n",
        "\n",
        "# Initialize confusion matrix (with two rows and two columns)\n",
        "overall_conf_matrix = np.zeros((2, 2), dtype=int)\n",
        "\n",
        "# Best model\n",
        "best_svm_linear_model = None\n",
        "best_svm_linear_score = 0.0\n",
        "\n",
        "# Cross-validation\n",
        "for train_index, test_index in outer_cv.split(X_train, y_train):\n",
        "    X_train_fold, X_test_fold = X_train[train_index], X_train[test_index]\n",
        "    y_train_fold, y_test_fold = y_train[train_index], y_train[test_index]\n",
        "\n",
        "    # SVM Linear\n",
        "    svm_linear_classifier = SVC(kernel='linear', random_state=42)\n",
        "    svm_linear_grid_search = GridSearchCV(svm_linear_classifier, svm_parameters, cv=inner_cv)\n",
        "    svm_linear_grid_search.fit(X_train_fold, y_train_fold)\n",
        "    svm_linear_best_params = svm_linear_grid_search.best_params_\n",
        "    svm_linear_best_model = SVC(kernel='linear', random_state=42, **svm_linear_best_params)\n",
        "\n",
        "    # Fit best model\n",
        "    svm_linear_best_model.fit(X_train_fold, y_train_fold)\n",
        "\n",
        "    # Test set\n",
        "    svm_linear_predictions = svm_linear_best_model.predict(X_test_fold)\n",
        "\n",
        "    # Performance metrics\n",
        "    svm_linear_accuracy_scores.append(accuracy_score(y_test_fold, svm_linear_predictions))\n",
        "    svm_linear_precision_scores.append(precision_score(y_test_fold, svm_linear_predictions))\n",
        "    svm_linear_recall_scores.append(recall_score(y_test_fold, svm_linear_predictions))\n",
        "    svm_linear_f1_scores.append(f1_score(y_test_fold, svm_linear_predictions))\n",
        "\n",
        "    # Update overall confusion matrix with current fold's results\n",
        "    fold_conf_matrix = confusion_matrix(y_test_fold, svm_linear_predictions)\n",
        "    overall_conf_matrix += fold_conf_matrix\n",
        "\n",
        "    # Store the best model\n",
        "    current_score = accuracy_score(y_test_fold, svm_linear_predictions)\n",
        "    if current_score > best_svm_linear_score:\n",
        "        best_svm_linear_score = current_score\n",
        "        best_svm_linear_model = svm_linear_best_model\n",
        "\n",
        "# Save best model\n",
        "if best_svm_linear_model is not None:\n",
        "    joblib.dump(best_svm_linear_model, 'best_svm_linear_model.pkl')\n",
        "\n",
        "# test set\n",
        "svm_linear_average_accuracy = np.mean(svm_linear_accuracy_scores)\n",
        "svm_linear_average_precision = np.mean(svm_linear_precision_scores)\n",
        "svm_linear_average_recall = np.mean(svm_linear_recall_scores)\n",
        "svm_linear_average_f1 = np.mean(svm_linear_f1_scores)\n",
        "\n",
        "# Print\n",
        "print(\"\\nSVM Linear Test Set:\")\n",
        "print(\"Accuracy:\", svm_linear_average_accuracy)\n",
        "print(\"Precision:\", svm_linear_average_precision)\n",
        "print(\"Recall:\", svm_linear_average_recall)\n",
        "print(\"F1-score:\", svm_linear_average_f1)\n"
      ]
    },
    {
      "cell_type": "code",
      "source": [
        "# Overall confusion matrix\n",
        "print(\"\\nOverall Confusion Matrix:\")\n",
        "print(overall_conf_matrix)\n",
        "\n",
        "# Plot\n",
        "plt.figure(figsize=(3, 3))\n",
        "sns.heatmap(overall_conf_matrix, annot=True, fmt='d', cmap='Blues', cbar=False)\n",
        "plt.title('Overall Confusion Matrix')\n",
        "plt.xlabel('Predicted')\n",
        "plt.ylabel('True')\n",
        "plt.show()"
      ],
      "metadata": {
        "colab": {
          "base_uri": "https://localhost:8080/",
          "height": 407
        },
        "id": "dfxuaFJkGbRL",
        "outputId": "ae7d09c3-e81b-4f42-a242-44cfea3cd44c"
      },
      "execution_count": 3,
      "outputs": [
        {
          "output_type": "stream",
          "name": "stdout",
          "text": [
            "\n",
            "Overall Confusion Matrix:\n",
            "[[157   7]\n",
            " [  0 156]]\n"
          ]
        },
        {
          "output_type": "display_data",
          "data": {
            "text/plain": [
              "<Figure size 300x300 with 1 Axes>"
            ],
            "image/png": "[encoded data removed]"
          },
          "metadata": {}
        }
      ]
    }
  ]
}