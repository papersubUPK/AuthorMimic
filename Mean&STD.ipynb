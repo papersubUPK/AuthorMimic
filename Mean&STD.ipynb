{
  "nbformat": 4,
  "nbformat_minor": 0,
  "metadata": {
    "colab": {
      "provenance": []
    },
    "kernelspec": {
      "name": "python3",
      "display_name": "Python 3"
    },
    "language_info": {
      "name": "python"
    }
  },
  "cells": [
    {
      "cell_type": "code",
      "execution_count": null,
      "metadata": {
        "id": "k3eLwyMcRbG1"
      },
      "outputs": [],
      "source": [
        "import pandas as pd\n",
        "\n",
        "# CSV file\n",
        "df = pd.read_csv('/content/Prompt-03-Extraction.csv')\n",
        "\n",
        "# Save Features's Mean and STD in the same Sequence as calculated (25 Features).\n",
        "with open('/content/MeanSTDP3Authors.csv', 'w') as out_file:\n",
        "    out_file.write(\"ID, NumberOfTotalCharactersMean, NumberOfTotalCharactersStd, NumberOfUppercaseCharactersMean,NumberOfUppercaseCharactersStd, NumberOfLowercaseCharactersMean,NumberOfLowercaseCharactersStd, NumberOfSpecialCharactersMean, NumberOfSpecialCharactersStd, NumberOfNumbersMean, NumberOfNumbersStd, NumberOfBlanksMean, NumberOfBlanksStd, NumberOfWordsMean, NumberOfWordsStd, LengthOfWordsMean,LengthOfWordsStd, NumberOfPropositionsMean, NumberOfPropositionsStd, PropositionsLengthMean, PropositionsLengthStd, NumberOfPunctuationCharactersMean, NumberOfPunctuationCharactersStd, NumberOfLowercaseWordsMean, NumberOfLowercaseWordsStd, NumberOfUppercaseWordsMean,NumberOfUppercaseWordsStd, NumberOfBigramsMean, NumberOfBigramsStd, NumberOfTrigramsMean, NumberOfTrigramsStd,HapaxTokenRatioMean, HapaxTokenRatioStd, VocabularyRichnessMean, VocabularyRichnessStd, FleschKincaidGradeLevelMean, FleschKincaidGradeLevelStd, FleschReadingEaseMean,FleschReadingEaseStd, DaleChallReadabilityMean, DaleChallReadabilityStd, AutomatedReadabilityIndexMean, AutomatedReadabilityIndexStd, ColemanLiauIndexMean, ColemanLiauIndexStd, GunningFogMean, GunningFogStd,SMOG(SimpleMeasureOfGobbledygookMean,SMOG(SimpleMeasureOfGobbledygookStd,LinsearWriteMean,LinsearWriteStd,Author\\n\")\n",
        "\n",
        "    # Calculate Mean, STD based for all authors based on all metrics.\n",
        "    for ID, group in df.groupby('ID'):\n",
        "        out_file.write(f\"{ID},{group['NumberOfTotalCharacters'].mean()},{group['NumberOfTotalCharacters'].std(ddof=0)},{group['NumberOfUppercaseCharacters'].mean()},{group['NumberOfUppercaseCharacters'].std(ddof=0)},{group['NumberOfLowercaseCharacters'].mean()},{group['NumberOfLowercaseCharacters'].std(ddof=0)},{group['NumberOfSpecialCharacters'].mean()},{group['NumberOfSpecialCharacters'].std(ddof=0)},{group['NumberOfNumbers'].mean()},{group['NumberOfNumbers'].std(ddof=0)},{group['NumberOfBlanks'].mean()},{group['NumberOfBlanks'].std(ddof=0)},{group['NumberOfWords'].mean()},{group['NumberOfWords'].std(ddof=0)},{group['AverageLengthOfWords'].mean()},{group['AverageLengthOfWords'].std(ddof=0)},{group['NumberOfPropositions'].mean()},{group['NumberOfPropositions'].std(ddof=0)},{group['PropositionsLength'].mean()},{group['PropositionsLength'].std(ddof=0)},{group['NumberOfPunctuationCharacters'].mean()},{group['NumberOfPunctuationCharacters'].std(ddof=0)},{group['NumberOfLowercaseWords'].mean()},{group['NumberOfLowercaseWords'].std(ddof=0)},{group['NumberOfUppercaseWords'].mean()},{group['NumberOfUppercaseWords'].std(ddof=0)},{group['NumberOfBigrams'].mean()},{group['NumberOfBigrams'].std(ddof=0)}, {group['NumberOfTrigrams'].mean()},{group['NumberOfTrigrams'].std(ddof=0)},{group['HapaxTokenRatio'].mean()},{group['HapaxTokenRatio'].std(ddof=0)},{group['VocabularyRichness'].mean()},{group['VocabularyRichness'].std(ddof=0)},{group['Flesch Kincaid Grade Level'].mean()},{group['Flesch Kincaid Grade Level'].std(ddof=0)},{group['Flesch Reading Ease formula'].mean()},{group['Flesch Reading Ease formula'].std(ddof=0)},{group['Dale Chall Readability'].mean()},{group['Dale Chall Readability'].std(ddof=0)},{group['Automated Readability Index'].mean()},{group['Automated Readability Index'].std(ddof=0)},{group['Coleman Liau Index'].mean()},{group['Coleman Liau Index'].std(ddof=0)},{group['Gunning Fog'].mean()},{group['Gunning Fog'].std(ddof=0)},{group['SMOG(Simple Measure of Gobbledygook)'].mean()},{group['SMOG(Simple Measure of Gobbledygook)'].std(ddof=0)},{group['Linsear Write'].mean()},{group['Linsear Write'].std(ddof=0)},{group['Model'].iloc[0]}\\n\")\n",
        "\n"
      ]
    }
  ]
}